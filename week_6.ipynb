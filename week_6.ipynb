{
 "cells": [
  {
   "cell_type": "markdown",
   "id": "2fa0fdc4",
   "metadata": {},
   "source": [
    "\n",
    "In this Assignment, we shall be working with the Nigerian Car Price Dataset to get the following insights\n",
    "-the most expensive Automatic car (show car name and model make) with a mileage of less than 50000\n",
    "-Write a function to bring out the average of each car, which car make has the highest average price? Write a code to show this\n",
    "-Select the row with a price at the 76th percentile score"
   ]
  },
  {
   "cell_type": "markdown",
   "id": "031c3e76",
   "metadata": {},
   "source": [
    "# importing libraries and loading dataset"
   ]
  },
  {
   "cell_type": "code",
   "execution_count": 29,
   "id": "2682eb6b",
   "metadata": {},
   "outputs": [],
   "source": [
    "#importing dependencies\n",
    "import pandas as pd \n",
    "import numpy as np \n",
    "import matplotlib \n",
    "from matplotlib import pyplot as plt \n",
    "import seaborn as sb"
   ]
  },
  {
   "cell_type": "code",
   "execution_count": 30,
   "id": "9261f344",
   "metadata": {},
   "outputs": [],
   "source": [
    "#loading dataset\n",
    "cars = pd.read_csv(r\"C:\\Users\\PRAISE\\Documents\\taskfiles\\Nigerian_Car_Prices.csv\")"
   ]
  },
  {
   "cell_type": "code",
   "execution_count": 31,
   "id": "41b531dc",
   "metadata": {},
   "outputs": [
    {
     "data": {
      "text/html": [
       "<div>\n",
       "<style scoped>\n",
       "    .dataframe tbody tr th:only-of-type {\n",
       "        vertical-align: middle;\n",
       "    }\n",
       "\n",
       "    .dataframe tbody tr th {\n",
       "        vertical-align: top;\n",
       "    }\n",
       "\n",
       "    .dataframe thead th {\n",
       "        text-align: right;\n",
       "    }\n",
       "</style>\n",
       "<table border=\"1\" class=\"dataframe\">\n",
       "  <thead>\n",
       "    <tr style=\"text-align: right;\">\n",
       "      <th></th>\n",
       "      <th>Unnamed: 0</th>\n",
       "      <th>Make</th>\n",
       "      <th>Year of manufacture</th>\n",
       "      <th>Condition</th>\n",
       "      <th>Mileage</th>\n",
       "      <th>Engine Size</th>\n",
       "      <th>Fuel</th>\n",
       "      <th>Transmission</th>\n",
       "      <th>Price</th>\n",
       "      <th>Build</th>\n",
       "    </tr>\n",
       "  </thead>\n",
       "  <tbody>\n",
       "    <tr>\n",
       "      <th>0</th>\n",
       "      <td>0</td>\n",
       "      <td>Toyota</td>\n",
       "      <td>2007.0</td>\n",
       "      <td>Nigerian Used</td>\n",
       "      <td>166418.0</td>\n",
       "      <td>2400.0</td>\n",
       "      <td>Petrol</td>\n",
       "      <td>Automatic</td>\n",
       "      <td>3,120,000</td>\n",
       "      <td>NaN</td>\n",
       "    </tr>\n",
       "    <tr>\n",
       "      <th>1</th>\n",
       "      <td>1</td>\n",
       "      <td>Lexus</td>\n",
       "      <td>NaN</td>\n",
       "      <td>NaN</td>\n",
       "      <td>138024.0</td>\n",
       "      <td>NaN</td>\n",
       "      <td>NaN</td>\n",
       "      <td>Automatic</td>\n",
       "      <td>5,834,000</td>\n",
       "      <td>NaN</td>\n",
       "    </tr>\n",
       "    <tr>\n",
       "      <th>2</th>\n",
       "      <td>2</td>\n",
       "      <td>Mercedes-Benz</td>\n",
       "      <td>2008.0</td>\n",
       "      <td>Nigerian Used</td>\n",
       "      <td>376807.0</td>\n",
       "      <td>3000.0</td>\n",
       "      <td>Petrol</td>\n",
       "      <td>Automatic</td>\n",
       "      <td>3,640,000</td>\n",
       "      <td>NaN</td>\n",
       "    </tr>\n",
       "    <tr>\n",
       "      <th>3</th>\n",
       "      <td>3</td>\n",
       "      <td>Lexus</td>\n",
       "      <td>NaN</td>\n",
       "      <td>NaN</td>\n",
       "      <td>213362.0</td>\n",
       "      <td>NaN</td>\n",
       "      <td>NaN</td>\n",
       "      <td>Automatic</td>\n",
       "      <td>3,594,000</td>\n",
       "      <td>NaN</td>\n",
       "    </tr>\n",
       "    <tr>\n",
       "      <th>4</th>\n",
       "      <td>4</td>\n",
       "      <td>Mercedes-Benz</td>\n",
       "      <td>NaN</td>\n",
       "      <td>NaN</td>\n",
       "      <td>106199.0</td>\n",
       "      <td>NaN</td>\n",
       "      <td>NaN</td>\n",
       "      <td>Automatic</td>\n",
       "      <td>8,410,000</td>\n",
       "      <td>NaN</td>\n",
       "    </tr>\n",
       "  </tbody>\n",
       "</table>\n",
       "</div>"
      ],
      "text/plain": [
       "   Unnamed: 0           Make  Year of manufacture      Condition   Mileage  \\\n",
       "0           0         Toyota               2007.0  Nigerian Used  166418.0   \n",
       "1           1          Lexus                  NaN            NaN  138024.0   \n",
       "2           2  Mercedes-Benz               2008.0  Nigerian Used  376807.0   \n",
       "3           3          Lexus                  NaN            NaN  213362.0   \n",
       "4           4  Mercedes-Benz                  NaN            NaN  106199.0   \n",
       "\n",
       "   Engine Size    Fuel Transmission      Price Build  \n",
       "0       2400.0  Petrol    Automatic  3,120,000   NaN  \n",
       "1          NaN     NaN    Automatic  5,834,000   NaN  \n",
       "2       3000.0  Petrol    Automatic  3,640,000   NaN  \n",
       "3          NaN     NaN    Automatic  3,594,000   NaN  \n",
       "4          NaN     NaN    Automatic  8,410,000   NaN  "
      ]
     },
     "execution_count": 31,
     "metadata": {},
     "output_type": "execute_result"
    }
   ],
   "source": [
    "cars.head(5)"
   ]
  },
  {
   "cell_type": "markdown",
   "id": "70bfdc3c",
   "metadata": {},
   "source": [
    "# Data cleaning/wrangling"
   ]
  },
  {
   "cell_type": "code",
   "execution_count": 32,
   "id": "589e659d",
   "metadata": {},
   "outputs": [
    {
     "data": {
      "text/plain": [
       "(4095, 10)"
      ]
     },
     "execution_count": 32,
     "metadata": {},
     "output_type": "execute_result"
    }
   ],
   "source": [
    "cars.shape"
   ]
  },
  {
   "cell_type": "code",
   "execution_count": 33,
   "id": "08b9383a",
   "metadata": {},
   "outputs": [
    {
     "data": {
      "text/plain": [
       "0    3120000\n",
       "1    5834000\n",
       "2    3640000\n",
       "3    3594000\n",
       "4    8410000\n",
       "Name: Price, dtype: object"
      ]
     },
     "execution_count": 33,
     "metadata": {},
     "output_type": "execute_result"
    }
   ],
   "source": [
    "# Removing comma from the values in the Price column\n",
    "cars['Price'] = cars['Price'].str.replace(',','')\n",
    "cars['Price'].head()"
   ]
  },
  {
   "cell_type": "code",
   "execution_count": 34,
   "id": "3611f2bb",
   "metadata": {},
   "outputs": [
    {
     "data": {
      "text/plain": [
       "Unnamed: 0               int64\n",
       "Make                    object\n",
       "Year of manufacture    float64\n",
       "Condition               object\n",
       "Mileage                float64\n",
       "Engine Size            float64\n",
       "Fuel                    object\n",
       "Transmission            object\n",
       "Price                   object\n",
       "Build                   object\n",
       "dtype: object"
      ]
     },
     "execution_count": 34,
     "metadata": {},
     "output_type": "execute_result"
    }
   ],
   "source": [
    "cars.dtypes"
   ]
  },
  {
   "cell_type": "code",
   "execution_count": 35,
   "id": "3e8e5a01",
   "metadata": {},
   "outputs": [],
   "source": [
    "# converting the dtype of Price column from object to integer\n",
    "cars[\"Price\"] = cars[\"Price\"].astype(int)"
   ]
  },
  {
   "cell_type": "code",
   "execution_count": 9,
   "id": "5ef2be41",
   "metadata": {},
   "outputs": [],
   "source": [
    "#check\n",
    "#cars.dtypes"
   ]
  },
  {
   "cell_type": "code",
   "execution_count": 36,
   "id": "6991bd98",
   "metadata": {},
   "outputs": [
    {
     "data": {
      "text/plain": [
       "Toyota           1469\n",
       "Lexus             464\n",
       "Mercedes-Benz     436\n",
       "Honda             428\n",
       "Ford              197\n",
       "Hyundai           179\n",
       "Nissan            173\n",
       "Kia                90\n",
       "Land Rover         74\n",
       "Volkswagen         64\n",
       "Mazda              63\n",
       "BMW                63\n",
       "Acura              56\n",
       "Infiniti           41\n",
       "Chevrolet          40\n",
       "Peugeot            36\n",
       "Mitsubishi         23\n",
       "Pontiac            22\n",
       "Volvo              22\n",
       "Suzuki             21\n",
       "Dodge              17\n",
       "Audi               14\n",
       "Opel               12\n",
       "Jaguar             11\n",
       "Jeep               11\n",
       "Porsche             9\n",
       "Renault             8\n",
       "Chrysler            7\n",
       "Fiat                6\n",
       "GMC                 5\n",
       "Changan             4\n",
       "Lincoln             4\n",
       "Skoda               3\n",
       "Hummer              2\n",
       "Buick               2\n",
       "JAC                 2\n",
       "Citroen             2\n",
       "Isuzu               2\n",
       "Mini                2\n",
       "MG                  2\n",
       "Rover               1\n",
       "Bentley             1\n",
       "Seat                1\n",
       "SsangYong           1\n",
       "Cadillac            1\n",
       "Saturn              1\n",
       "Tata                1\n",
       "Foton               1\n",
       "Daihatsu            1\n",
       "Name: Make, dtype: int64"
      ]
     },
     "execution_count": 36,
     "metadata": {},
     "output_type": "execute_result"
    }
   ],
   "source": [
    "cars['Make'].value_counts()#to show the number of cars per type"
   ]
  },
  {
   "cell_type": "code",
   "execution_count": 26,
   "id": "789f10b0",
   "metadata": {},
   "outputs": [
    {
     "data": {
      "text/html": [
       "<div>\n",
       "<style scoped>\n",
       "    .dataframe tbody tr th:only-of-type {\n",
       "        vertical-align: middle;\n",
       "    }\n",
       "\n",
       "    .dataframe tbody tr th {\n",
       "        vertical-align: top;\n",
       "    }\n",
       "\n",
       "    .dataframe thead th {\n",
       "        text-align: right;\n",
       "    }\n",
       "</style>\n",
       "<table border=\"1\" class=\"dataframe\">\n",
       "  <thead>\n",
       "    <tr style=\"text-align: right;\">\n",
       "      <th></th>\n",
       "      <th>Unnamed: 0</th>\n",
       "      <th>Make</th>\n",
       "      <th>Year of manufacture</th>\n",
       "      <th>Condition</th>\n",
       "      <th>Mileage</th>\n",
       "      <th>Engine Size</th>\n",
       "      <th>Fuel</th>\n",
       "      <th>Transmission</th>\n",
       "      <th>Price</th>\n",
       "      <th>Build</th>\n",
       "    </tr>\n",
       "  </thead>\n",
       "  <tbody>\n",
       "    <tr>\n",
       "      <th>0</th>\n",
       "      <td>0</td>\n",
       "      <td>Toyota</td>\n",
       "      <td>2007.0</td>\n",
       "      <td>Nigerian Used</td>\n",
       "      <td>299999.0</td>\n",
       "      <td>3500.0</td>\n",
       "      <td>Petrol</td>\n",
       "      <td>Automatic</td>\n",
       "      <td>2625000.0</td>\n",
       "      <td>SUV</td>\n",
       "    </tr>\n",
       "    <tr>\n",
       "      <th>1</th>\n",
       "      <td>1</td>\n",
       "      <td>NaN</td>\n",
       "      <td>NaN</td>\n",
       "      <td>NaN</td>\n",
       "      <td>NaN</td>\n",
       "      <td>NaN</td>\n",
       "      <td>NaN</td>\n",
       "      <td>NaN</td>\n",
       "      <td>NaN</td>\n",
       "      <td>NaN</td>\n",
       "    </tr>\n",
       "    <tr>\n",
       "      <th>2</th>\n",
       "      <td>2</td>\n",
       "      <td>NaN</td>\n",
       "      <td>NaN</td>\n",
       "      <td>NaN</td>\n",
       "      <td>NaN</td>\n",
       "      <td>NaN</td>\n",
       "      <td>NaN</td>\n",
       "      <td>NaN</td>\n",
       "      <td>NaN</td>\n",
       "      <td>NaN</td>\n",
       "    </tr>\n",
       "    <tr>\n",
       "      <th>3</th>\n",
       "      <td>3</td>\n",
       "      <td>NaN</td>\n",
       "      <td>NaN</td>\n",
       "      <td>NaN</td>\n",
       "      <td>NaN</td>\n",
       "      <td>NaN</td>\n",
       "      <td>NaN</td>\n",
       "      <td>NaN</td>\n",
       "      <td>NaN</td>\n",
       "      <td>NaN</td>\n",
       "    </tr>\n",
       "    <tr>\n",
       "      <th>4</th>\n",
       "      <td>4</td>\n",
       "      <td>NaN</td>\n",
       "      <td>NaN</td>\n",
       "      <td>NaN</td>\n",
       "      <td>NaN</td>\n",
       "      <td>NaN</td>\n",
       "      <td>NaN</td>\n",
       "      <td>NaN</td>\n",
       "      <td>NaN</td>\n",
       "      <td>NaN</td>\n",
       "    </tr>\n",
       "    <tr>\n",
       "      <th>...</th>\n",
       "      <td>...</td>\n",
       "      <td>...</td>\n",
       "      <td>...</td>\n",
       "      <td>...</td>\n",
       "      <td>...</td>\n",
       "      <td>...</td>\n",
       "      <td>...</td>\n",
       "      <td>...</td>\n",
       "      <td>...</td>\n",
       "      <td>...</td>\n",
       "    </tr>\n",
       "    <tr>\n",
       "      <th>4090</th>\n",
       "      <td>4090</td>\n",
       "      <td>NaN</td>\n",
       "      <td>NaN</td>\n",
       "      <td>NaN</td>\n",
       "      <td>NaN</td>\n",
       "      <td>NaN</td>\n",
       "      <td>NaN</td>\n",
       "      <td>NaN</td>\n",
       "      <td>NaN</td>\n",
       "      <td>NaN</td>\n",
       "    </tr>\n",
       "    <tr>\n",
       "      <th>4091</th>\n",
       "      <td>4091</td>\n",
       "      <td>NaN</td>\n",
       "      <td>NaN</td>\n",
       "      <td>NaN</td>\n",
       "      <td>NaN</td>\n",
       "      <td>NaN</td>\n",
       "      <td>NaN</td>\n",
       "      <td>NaN</td>\n",
       "      <td>NaN</td>\n",
       "      <td>NaN</td>\n",
       "    </tr>\n",
       "    <tr>\n",
       "      <th>4092</th>\n",
       "      <td>4092</td>\n",
       "      <td>NaN</td>\n",
       "      <td>NaN</td>\n",
       "      <td>NaN</td>\n",
       "      <td>NaN</td>\n",
       "      <td>NaN</td>\n",
       "      <td>NaN</td>\n",
       "      <td>NaN</td>\n",
       "      <td>NaN</td>\n",
       "      <td>NaN</td>\n",
       "    </tr>\n",
       "    <tr>\n",
       "      <th>4093</th>\n",
       "      <td>4093</td>\n",
       "      <td>NaN</td>\n",
       "      <td>NaN</td>\n",
       "      <td>NaN</td>\n",
       "      <td>NaN</td>\n",
       "      <td>NaN</td>\n",
       "      <td>NaN</td>\n",
       "      <td>NaN</td>\n",
       "      <td>NaN</td>\n",
       "      <td>NaN</td>\n",
       "    </tr>\n",
       "    <tr>\n",
       "      <th>4094</th>\n",
       "      <td>4094</td>\n",
       "      <td>NaN</td>\n",
       "      <td>NaN</td>\n",
       "      <td>NaN</td>\n",
       "      <td>NaN</td>\n",
       "      <td>NaN</td>\n",
       "      <td>NaN</td>\n",
       "      <td>NaN</td>\n",
       "      <td>NaN</td>\n",
       "      <td>NaN</td>\n",
       "    </tr>\n",
       "  </tbody>\n",
       "</table>\n",
       "<p>4095 rows × 10 columns</p>\n",
       "</div>"
      ],
      "text/plain": [
       "      Unnamed: 0    Make  Year of manufacture      Condition   Mileage  \\\n",
       "0              0  Toyota               2007.0  Nigerian Used  299999.0   \n",
       "1              1     NaN                  NaN            NaN       NaN   \n",
       "2              2     NaN                  NaN            NaN       NaN   \n",
       "3              3     NaN                  NaN            NaN       NaN   \n",
       "4              4     NaN                  NaN            NaN       NaN   \n",
       "...          ...     ...                  ...            ...       ...   \n",
       "4090        4090     NaN                  NaN            NaN       NaN   \n",
       "4091        4091     NaN                  NaN            NaN       NaN   \n",
       "4092        4092     NaN                  NaN            NaN       NaN   \n",
       "4093        4093     NaN                  NaN            NaN       NaN   \n",
       "4094        4094     NaN                  NaN            NaN       NaN   \n",
       "\n",
       "      Engine Size    Fuel Transmission      Price Build  \n",
       "0          3500.0  Petrol    Automatic  2625000.0   SUV  \n",
       "1             NaN     NaN          NaN        NaN   NaN  \n",
       "2             NaN     NaN          NaN        NaN   NaN  \n",
       "3             NaN     NaN          NaN        NaN   NaN  \n",
       "4             NaN     NaN          NaN        NaN   NaN  \n",
       "...           ...     ...          ...        ...   ...  \n",
       "4090          NaN     NaN          NaN        NaN   NaN  \n",
       "4091          NaN     NaN          NaN        NaN   NaN  \n",
       "4092          NaN     NaN          NaN        NaN   NaN  \n",
       "4093          NaN     NaN          NaN        NaN   NaN  \n",
       "4094          NaN     NaN          NaN        NaN   NaN  \n",
       "\n",
       "[4095 rows x 10 columns]"
      ]
     },
     "execution_count": 26,
     "metadata": {},
     "output_type": "execute_result"
    }
   ],
   "source": [
    "cars.mode()"
   ]
  },
  {
   "cell_type": "code",
   "execution_count": 37,
   "id": "d95531a4",
   "metadata": {},
   "outputs": [
    {
     "data": {
      "text/plain": [
       "Unnamed: 0                0\n",
       "Make                      0\n",
       "Year of manufacture     478\n",
       "Condition               479\n",
       "Mileage                  71\n",
       "Engine Size             511\n",
       "Fuel                    488\n",
       "Transmission             20\n",
       "Price                     0\n",
       "Build                  2968\n",
       "dtype: int64"
      ]
     },
     "execution_count": 37,
     "metadata": {},
     "output_type": "execute_result"
    }
   ],
   "source": [
    "#checking for missing values\n",
    "cars.isna().sum()"
   ]
  },
  {
   "cell_type": "markdown",
   "id": "4d897714",
   "metadata": {},
   "source": [
    "checking for missing values, we find out that there exist in columns like year of manufacture with 478,condtion with 469,mileage with 71 etc.iwill be filling them up with the mode."
   ]
  },
  {
   "cell_type": "code",
   "execution_count": 40,
   "id": "466f7662",
   "metadata": {},
   "outputs": [
    {
     "data": {
      "text/plain": [
       "Unnamed: 0             0\n",
       "Make                   0\n",
       "Year of manufacture    0\n",
       "Condition              0\n",
       "Mileage                0\n",
       "Engine Size            0\n",
       "Fuel                   0\n",
       "Transmission           0\n",
       "Price                  0\n",
       "Build                  0\n",
       "dtype: int64"
      ]
     },
     "execution_count": 40,
     "metadata": {},
     "output_type": "execute_result"
    }
   ],
   "source": [
    "cars=cars.fillna(cars.mode().iloc[0])#to fill our Null values using mode\n",
    "#check\n",
    "cars.isna().sum()"
   ]
  },
  {
   "cell_type": "code",
   "execution_count": 42,
   "id": "ea042dad",
   "metadata": {},
   "outputs": [
    {
     "data": {
      "text/html": [
       "<div>\n",
       "<style scoped>\n",
       "    .dataframe tbody tr th:only-of-type {\n",
       "        vertical-align: middle;\n",
       "    }\n",
       "\n",
       "    .dataframe tbody tr th {\n",
       "        vertical-align: top;\n",
       "    }\n",
       "\n",
       "    .dataframe thead th {\n",
       "        text-align: right;\n",
       "    }\n",
       "</style>\n",
       "<table border=\"1\" class=\"dataframe\">\n",
       "  <thead>\n",
       "    <tr style=\"text-align: right;\">\n",
       "      <th></th>\n",
       "      <th>Unnamed: 0</th>\n",
       "      <th>Year of manufacture</th>\n",
       "      <th>Mileage</th>\n",
       "      <th>Engine Size</th>\n",
       "      <th>Price</th>\n",
       "    </tr>\n",
       "  </thead>\n",
       "  <tbody>\n",
       "    <tr>\n",
       "      <th>count</th>\n",
       "      <td>4095.000000</td>\n",
       "      <td>4095.000000</td>\n",
       "      <td>4.095000e+03</td>\n",
       "      <td>4095.00000</td>\n",
       "      <td>4.095000e+03</td>\n",
       "    </tr>\n",
       "    <tr>\n",
       "      <th>mean</th>\n",
       "      <td>2047.000000</td>\n",
       "      <td>2007.793651</td>\n",
       "      <td>1.845703e+05</td>\n",
       "      <td>3303.05641</td>\n",
       "      <td>4.271288e+06</td>\n",
       "    </tr>\n",
       "    <tr>\n",
       "      <th>std</th>\n",
       "      <td>1182.269005</td>\n",
       "      <td>4.051592</td>\n",
       "      <td>2.096479e+05</td>\n",
       "      <td>7197.73812</td>\n",
       "      <td>4.900064e+06</td>\n",
       "    </tr>\n",
       "    <tr>\n",
       "      <th>min</th>\n",
       "      <td>0.000000</td>\n",
       "      <td>1992.000000</td>\n",
       "      <td>1.000000e+00</td>\n",
       "      <td>3.00000</td>\n",
       "      <td>4.580000e+05</td>\n",
       "    </tr>\n",
       "    <tr>\n",
       "      <th>25%</th>\n",
       "      <td>1023.500000</td>\n",
       "      <td>2005.000000</td>\n",
       "      <td>1.025985e+05</td>\n",
       "      <td>2400.00000</td>\n",
       "      <td>1.872000e+06</td>\n",
       "    </tr>\n",
       "    <tr>\n",
       "      <th>50%</th>\n",
       "      <td>2047.000000</td>\n",
       "      <td>2007.000000</td>\n",
       "      <td>1.637560e+05</td>\n",
       "      <td>3000.00000</td>\n",
       "      <td>2.940000e+06</td>\n",
       "    </tr>\n",
       "    <tr>\n",
       "      <th>75%</th>\n",
       "      <td>3070.500000</td>\n",
       "      <td>2010.000000</td>\n",
       "      <td>2.365910e+05</td>\n",
       "      <td>3500.00000</td>\n",
       "      <td>4.725000e+06</td>\n",
       "    </tr>\n",
       "    <tr>\n",
       "      <th>max</th>\n",
       "      <td>4094.000000</td>\n",
       "      <td>2021.000000</td>\n",
       "      <td>9.976050e+06</td>\n",
       "      <td>371000.00000</td>\n",
       "      <td>5.880000e+07</td>\n",
       "    </tr>\n",
       "  </tbody>\n",
       "</table>\n",
       "</div>"
      ],
      "text/plain": [
       "        Unnamed: 0  Year of manufacture       Mileage   Engine Size  \\\n",
       "count  4095.000000          4095.000000  4.095000e+03    4095.00000   \n",
       "mean   2047.000000          2007.793651  1.845703e+05    3303.05641   \n",
       "std    1182.269005             4.051592  2.096479e+05    7197.73812   \n",
       "min       0.000000          1992.000000  1.000000e+00       3.00000   \n",
       "25%    1023.500000          2005.000000  1.025985e+05    2400.00000   \n",
       "50%    2047.000000          2007.000000  1.637560e+05    3000.00000   \n",
       "75%    3070.500000          2010.000000  2.365910e+05    3500.00000   \n",
       "max    4094.000000          2021.000000  9.976050e+06  371000.00000   \n",
       "\n",
       "              Price  \n",
       "count  4.095000e+03  \n",
       "mean   4.271288e+06  \n",
       "std    4.900064e+06  \n",
       "min    4.580000e+05  \n",
       "25%    1.872000e+06  \n",
       "50%    2.940000e+06  \n",
       "75%    4.725000e+06  \n",
       "max    5.880000e+07  "
      ]
     },
     "execution_count": 42,
     "metadata": {},
     "output_type": "execute_result"
    }
   ],
   "source": [
    "# Describing the dataset to have more insight\n",
    "cars.describe()"
   ]
  },
  {
   "cell_type": "markdown",
   "id": "d4f45799",
   "metadata": {},
   "source": [
    "Q1: What is the most expensive Automatic car (show car name and model make) with a mileage of less than 50000"
   ]
  },
  {
   "cell_type": "code",
   "execution_count": 44,
   "id": "a191cce5",
   "metadata": {},
   "outputs": [
    {
     "data": {
      "text/plain": [
       "Make        Volvo\n",
       "Build         SUV\n",
       "Price    58800000\n",
       "dtype: object"
      ]
     },
     "execution_count": 44,
     "metadata": {},
     "output_type": "execute_result"
    }
   ],
   "source": [
    "cars.groupby(['Make','Build'])[['Make','Build','Price']].max().max()\n",
    "#the most expensive car is a Volve make, with SUV build and it's price is 58800000(fifty eight million,eight hundred thousand)\n"
   ]
  },
  {
   "cell_type": "markdown",
   "id": "be77dd50",
   "metadata": {},
   "source": [
    "Q2: Write a function to bring out the average of each car, which car make has the highest average price? Write a code to show this\n",
    "\n"
   ]
  },
  {
   "cell_type": "code",
   "execution_count": 45,
   "id": "233a6ccb",
   "metadata": {},
   "outputs": [
    {
     "data": {
      "text/plain": [
       "Make\n",
       "Acura            3.414470e+06\n",
       "Audi             6.090536e+06\n",
       "BMW              3.785456e+06\n",
       "Bentley          1.689500e+07\n",
       "Buick            4.770000e+06\n",
       "Cadillac         6.730000e+06\n",
       "Changan          1.222500e+07\n",
       "Chevrolet        4.473020e+06\n",
       "Chrysler         2.797500e+06\n",
       "Citroen          1.260000e+06\n",
       "Daihatsu         9.450000e+05\n",
       "Dodge            4.898382e+06\n",
       "Fiat             6.945000e+06\n",
       "Ford             3.711745e+06\n",
       "Foton            4.938000e+06\n",
       "GMC              8.784600e+06\n",
       "Honda            2.527255e+06\n",
       "Hummer           6.300000e+06\n",
       "Hyundai          3.873316e+06\n",
       "Infiniti         2.997098e+06\n",
       "Isuzu            2.048400e+06\n",
       "JAC              7.290000e+06\n",
       "Jaguar           4.330682e+06\n",
       "Jeep             9.580545e+06\n",
       "Kia              3.511190e+06\n",
       "Land Rover       1.021207e+07\n",
       "Lexus            5.032669e+06\n",
       "Lincoln          7.601000e+06\n",
       "MG               1.575000e+06\n",
       "Mazda            2.760742e+06\n",
       "Mercedes-Benz    6.270841e+06\n",
       "Mini             6.300000e+06\n",
       "Mitsubishi       1.920609e+06\n",
       "Nissan           3.941813e+06\n",
       "Opel             1.462500e+06\n",
       "Peugeot          1.704417e+06\n",
       "Pontiac          2.536636e+06\n",
       "Porsche          7.655889e+06\n",
       "Renault          1.561562e+06\n",
       "Rover            1.018500e+07\n",
       "Saturn           3.150000e+06\n",
       "Seat             2.520000e+06\n",
       "Skoda            1.967500e+06\n",
       "SsangYong        2.625000e+06\n",
       "Suzuki           5.964286e+06\n",
       "Tata             1.785000e+07\n",
       "Toyota           4.077386e+06\n",
       "Volkswagen       3.004469e+06\n",
       "Volvo            2.365864e+06\n",
       "Name: Price, dtype: float64"
      ]
     },
     "execution_count": 45,
     "metadata": {},
     "output_type": "execute_result"
    }
   ],
   "source": [
    " #Average Of Each Car\n",
    "cars.groupby(['Make'])['Price'].mean()\n"
   ]
  },
  {
   "cell_type": "code",
   "execution_count": 46,
   "id": "d754b15c",
   "metadata": {},
   "outputs": [
    {
     "data": {
      "text/html": [
       "<div>\n",
       "<style scoped>\n",
       "    .dataframe tbody tr th:only-of-type {\n",
       "        vertical-align: middle;\n",
       "    }\n",
       "\n",
       "    .dataframe tbody tr th {\n",
       "        vertical-align: top;\n",
       "    }\n",
       "\n",
       "    .dataframe thead th {\n",
       "        text-align: right;\n",
       "    }\n",
       "</style>\n",
       "<table border=\"1\" class=\"dataframe\">\n",
       "  <thead>\n",
       "    <tr style=\"text-align: right;\">\n",
       "      <th></th>\n",
       "      <th>index</th>\n",
       "      <th>0</th>\n",
       "    </tr>\n",
       "  </thead>\n",
       "  <tbody>\n",
       "    <tr>\n",
       "      <th>0</th>\n",
       "      <td>Make</td>\n",
       "      <td>Volvo</td>\n",
       "    </tr>\n",
       "    <tr>\n",
       "      <th>1</th>\n",
       "      <td>Build</td>\n",
       "      <td>SUV</td>\n",
       "    </tr>\n",
       "    <tr>\n",
       "      <th>2</th>\n",
       "      <td>Price</td>\n",
       "      <td>17850000.0</td>\n",
       "    </tr>\n",
       "  </tbody>\n",
       "</table>\n",
       "</div>"
      ],
      "text/plain": [
       "   index           0\n",
       "0   Make       Volvo\n",
       "1  Build         SUV\n",
       "2  Price  17850000.0"
      ]
     },
     "execution_count": 46,
     "metadata": {},
     "output_type": "execute_result"
    }
   ],
   "source": [
    "#car with highest average price\n",
    "cars.groupby(['Make','Build'])['Price'].mean().reset_index().max().reset_index()"
   ]
  },
  {
   "cell_type": "markdown",
   "id": "9f1bfaa3",
   "metadata": {},
   "source": [
    "Select the row with a price at the 76th percentile score"
   ]
  },
  {
   "cell_type": "code",
   "execution_count": 47,
   "id": "78218c87",
   "metadata": {},
   "outputs": [
    {
     "data": {
      "text/html": [
       "<div>\n",
       "<style scoped>\n",
       "    .dataframe tbody tr th:only-of-type {\n",
       "        vertical-align: middle;\n",
       "    }\n",
       "\n",
       "    .dataframe tbody tr th {\n",
       "        vertical-align: top;\n",
       "    }\n",
       "\n",
       "    .dataframe thead th {\n",
       "        text-align: right;\n",
       "    }\n",
       "</style>\n",
       "<table border=\"1\" class=\"dataframe\">\n",
       "  <thead>\n",
       "    <tr style=\"text-align: right;\">\n",
       "      <th></th>\n",
       "      <th>Unnamed: 0</th>\n",
       "      <th>Year of manufacture</th>\n",
       "      <th>Mileage</th>\n",
       "      <th>Engine Size</th>\n",
       "      <th>Price</th>\n",
       "    </tr>\n",
       "  </thead>\n",
       "  <tbody>\n",
       "    <tr>\n",
       "      <th>0.76</th>\n",
       "      <td>3111.44</td>\n",
       "      <td>2010.0</td>\n",
       "      <td>241519.32</td>\n",
       "      <td>3500.0</td>\n",
       "      <td>4770000.0</td>\n",
       "    </tr>\n",
       "  </tbody>\n",
       "</table>\n",
       "</div>"
      ],
      "text/plain": [
       "      Unnamed: 0  Year of manufacture    Mileage  Engine Size      Price\n",
       "0.76     3111.44               2010.0  241519.32       3500.0  4770000.0"
      ]
     },
     "execution_count": 47,
     "metadata": {},
     "output_type": "execute_result"
    }
   ],
   "source": [
    "cars.quantile([0.76], axis=0)"
   ]
  },
  {
   "cell_type": "code",
   "execution_count": null,
   "id": "a20d0258",
   "metadata": {},
   "outputs": [],
   "source": []
  }
 ],
 "metadata": {
  "kernelspec": {
   "display_name": "Python 3 (ipykernel)",
   "language": "python",
   "name": "python3"
  },
  "language_info": {
   "codemirror_mode": {
    "name": "ipython",
    "version": 3
   },
   "file_extension": ".py",
   "mimetype": "text/x-python",
   "name": "python",
   "nbconvert_exporter": "python",
   "pygments_lexer": "ipython3",
   "version": "3.9.12"
  }
 },
 "nbformat": 4,
 "nbformat_minor": 5
}
